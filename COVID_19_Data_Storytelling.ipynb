{
 "cells": [
  {
   "cell_type": "markdown",
   "id": "e9f34b9e",
   "metadata": {},
   "source": [
    "# COVID-19 Death Trends Analysis\n",
    "\n",
    "This notebook explores global COVID-19 average death trends over time using Python and data visualization libraries.  \n",
    "We aim to communicate insights through effective storytelling using visual tools.\n"
   ]
  },
  {
   "cell_type": "markdown",
   "id": "6edcfae8",
   "metadata": {},
   "source": [
    "## Step 3: Visualize Death Trends\n",
    "We create visualizations to observe patterns in average deaths over time."
   ]
  },
  {
   "cell_type": "code",
   "execution_count": 1,
   "id": "b708b2b7",
   "metadata": {},
   "outputs": [],
   "source": [
    "import pandas as pd\n",
    "import matplotlib.pyplot as plt"
   ]
  },
  {
   "cell_type": "markdown",
   "id": "516ad81a",
   "metadata": {},
   "source": [
    "## Step 1: Load the Dataset\n",
    "We start by loading the dataset containing average death counts due to COVID-19."
   ]
  },
  {
   "cell_type": "code",
   "execution_count": 2,
   "id": "d190f9cc",
   "metadata": {},
   "outputs": [],
   "source": [
    "dataset=pd.read_csv(\"avg_deaths.csv\")"
   ]
  },
  {
   "cell_type": "code",
   "execution_count": 3,
   "id": "5591deb6",
   "metadata": {},
   "outputs": [
    {
     "data": {
      "text/html": [
       "<div>\n",
       "<style scoped>\n",
       "    .dataframe tbody tr th:only-of-type {\n",
       "        vertical-align: middle;\n",
       "    }\n",
       "\n",
       "    .dataframe tbody tr th {\n",
       "        vertical-align: top;\n",
       "    }\n",
       "\n",
       "    .dataframe thead th {\n",
       "        text-align: right;\n",
       "    }\n",
       "</style>\n",
       "<table border=\"1\" class=\"dataframe\">\n",
       "  <thead>\n",
       "    <tr style=\"text-align: right;\">\n",
       "      <th></th>\n",
       "      <th>Month</th>\n",
       "      <th>New_deaths</th>\n",
       "    </tr>\n",
       "  </thead>\n",
       "  <tbody>\n",
       "    <tr>\n",
       "      <th>0</th>\n",
       "      <td>1</td>\n",
       "      <td>0</td>\n",
       "    </tr>\n",
       "    <tr>\n",
       "      <th>1</th>\n",
       "      <td>2</td>\n",
       "      <td>0</td>\n",
       "    </tr>\n",
       "    <tr>\n",
       "      <th>2</th>\n",
       "      <td>3</td>\n",
       "      <td>77</td>\n",
       "    </tr>\n",
       "    <tr>\n",
       "      <th>3</th>\n",
       "      <td>4</td>\n",
       "      <td>1844</td>\n",
       "    </tr>\n",
       "    <tr>\n",
       "      <th>4</th>\n",
       "      <td>5</td>\n",
       "      <td>1448</td>\n",
       "    </tr>\n",
       "    <tr>\n",
       "      <th>5</th>\n",
       "      <td>6</td>\n",
       "      <td>785</td>\n",
       "    </tr>\n",
       "    <tr>\n",
       "      <th>6</th>\n",
       "      <td>7</td>\n",
       "      <td>769</td>\n",
       "    </tr>\n",
       "    <tr>\n",
       "      <th>7</th>\n",
       "      <td>8</td>\n",
       "      <td>1020</td>\n",
       "    </tr>\n",
       "    <tr>\n",
       "      <th>8</th>\n",
       "      <td>9</td>\n",
       "      <td>739</td>\n",
       "    </tr>\n",
       "    <tr>\n",
       "      <th>9</th>\n",
       "      <td>10</td>\n",
       "      <td>751</td>\n",
       "    </tr>\n",
       "    <tr>\n",
       "      <th>10</th>\n",
       "      <td>11</td>\n",
       "      <td>1225</td>\n",
       "    </tr>\n",
       "    <tr>\n",
       "      <th>11</th>\n",
       "      <td>12</td>\n",
       "      <td>2247</td>\n",
       "    </tr>\n",
       "  </tbody>\n",
       "</table>\n",
       "</div>"
      ],
      "text/plain": [
       "    Month  New_deaths\n",
       "0       1           0\n",
       "1       2           0\n",
       "2       3          77\n",
       "3       4        1844\n",
       "4       5        1448\n",
       "5       6         785\n",
       "6       7         769\n",
       "7       8        1020\n",
       "8       9         739\n",
       "9      10         751\n",
       "10     11        1225\n",
       "11     12        2247"
      ]
     },
     "execution_count": 3,
     "metadata": {},
     "output_type": "execute_result"
    }
   ],
   "source": [
    "dataset"
   ]
  },
  {
   "cell_type": "code",
   "execution_count": 4,
   "id": "767516d1",
   "metadata": {},
   "outputs": [],
   "source": [
    "strt = 0\n",
    "end = 3\n",
    "deaths = []\n",
    "\n",
    "for i in range(4):\n",
    "    death_cumulative = dataset[\"New_deaths\"][strt:end].sum()\n",
    "    deaths.append(death_cumulative)\n",
    "    strt += 3\n",
    "    end += 3"
   ]
  },
  {
   "cell_type": "code",
   "execution_count": 5,
   "id": "b0e73bf9",
   "metadata": {},
   "outputs": [
    {
     "data": {
      "text/plain": [
       "[77, 4077, 2528, 4223]"
      ]
     },
     "execution_count": 5,
     "metadata": {},
     "output_type": "execute_result"
    }
   ],
   "source": [
    "deaths"
   ]
  },
  {
   "cell_type": "code",
   "execution_count": 6,
   "id": "7cb5ddc7",
   "metadata": {},
   "outputs": [],
   "source": [
    "strt = 0\n",
    "end = 3\n",
    "deaths = []\n",
    "\n",
    "for i in range(4):\n",
    "    death_cumulative = dataset[\"New_deaths\"][strt:end].sum()\n",
    "    deaths.append(death_cumulative)\n",
    "    end += 3"
   ]
  },
  {
   "cell_type": "code",
   "execution_count": 7,
   "id": "dc124102",
   "metadata": {},
   "outputs": [
    {
     "data": {
      "text/plain": [
       "[77, 4154, 6682, 10905]"
      ]
     },
     "execution_count": 7,
     "metadata": {},
     "output_type": "execute_result"
    }
   ],
   "source": [
    "deaths"
   ]
  },
  {
   "cell_type": "code",
   "execution_count": 8,
   "id": "0a13c66c",
   "metadata": {},
   "outputs": [
    {
     "data": {
      "text/plain": [
       "[0.01, 0.38, 0.61, 1.0]"
      ]
     },
     "execution_count": 8,
     "metadata": {},
     "output_type": "execute_result"
    }
   ],
   "source": [
    "proportions = [round(death/max(deaths), 2) for death in deaths]\n",
    "proportions"
   ]
  },
  {
   "cell_type": "code",
   "execution_count": 9,
   "id": "2388d9cb",
   "metadata": {},
   "outputs": [
    {
     "data": {
      "text/plain": [
       "[0.503, 0.614, 0.683, 0.8]"
      ]
     },
     "execution_count": 9,
     "metadata": {},
     "output_type": "execute_result"
    }
   ],
   "source": [
    "xmax_vals = [(0.5 + proportion * 0.3) for proportion in proportions]\n",
    "xmax_vals"
   ]
  },
  {
   "cell_type": "code",
   "execution_count": 17,
   "id": "e8ab1321",
   "metadata": {},
   "outputs": [
    {
     "data": {
      "image/png": "[encoded data removed]",
      "text/plain": [
       "<Figure size 720x864 with 4 Axes>"
      ]
     },
     "metadata": {},
     "output_type": "display_data"
    }
   ],
   "source": [
    "fig,(ax1,ax2,ax3,ax4)=plt.subplots(4,1,figsize=(10,12))\n",
    "axis=ax1,ax2,ax3,ax4\n",
    "for ax in axis:\n",
    "    ax.plot(dataset[\"Month\"],dataset[\"New_deaths\"],color=\"#b30000\",alpha=0.3)\n",
    "    ax.set_xticks([])\n",
    "    ax.set_yticks([])\n",
    "    for location in (\"top\",\"bottom\",\"left\",\"right\"):\n",
    "        ax.spines[location].set_visible(False)\n",
    "    ax.text(0.8,0,\"0\",color=\"#b30000\",weight=\"bold\")\n",
    "    ax.text(12,2500,\"2247\",color=\"#b30000\",weight=\"bold\")\n",
    "    \n",
    "ax1.text(5, 3000, \"The virus kills {:,} people\".format(dataset.New_deaths.sum()), \\\n",
    "         size = 16, weight = \"bold\", color = \"#4d0000\")    \n",
    "    \n",
    "    \n",
    "ax1.plot(dataset[\"Month\"][:3],dataset[\"New_deaths\"][:3],color=\"#b30000\",linewidth=2.5)\n",
    "ax2.plot(dataset[\"Month\"][2:6],dataset[\"New_deaths\"][2:6],color=\"#b30000\",linewidth=2.5)\n",
    "ax3.plot(dataset[\"Month\"][5:10],dataset[\"New_deaths\"][5:10],color=\"#b30000\",linewidth=2.5)\n",
    "ax4.plot(dataset[\"Month\"][9:],dataset[\"New_deaths\"][9:],color=\"#b30000\",linewidth=2.5)\n",
    "\n",
    "ax1.text(1.5,-200,\"Jan-Mar\",color=\"#b30000\",weight=\"bold\")\n",
    "ax2.text(3.5,500,\"Apr-Jun\",color=\"#b30000\",weight=\"bold\",rotation=69)\n",
    "ax3.text(7.5,700,\"Jul-Sep\",color=\"#b30000\",weight=\"bold\")\n",
    "ax4.text(11.1,1100,\"Oct-Dec\",color=\"#b30000\",weight=\"bold\",rotation=55)\n",
    "   \n",
    "for ax,proportion,death,xmax in zip(axis,proportions,deaths,xmax_vals):\n",
    "    ax.axhline(y=1600,xmin=0.5,xmax=0.8,color=\"#b30000\",linewidth=10,alpha=0.3)\n",
    "    ax.axhline(y=1600,xmin=0.5,xmax=xmax,color=\"#b30000\",linewidth=10,alpha=0.6)\n",
    "    \n",
    "    ax.text(8,1800,format(death,\",\"),color=\"#b30000\",weight=\"bold\")\n",
    "    ax.text(8,1300,str(int(proportion*100))+\"%\",color=\"#b30000\",weight=\"bold\")\n",
    "plt.savefig   \n",
    "plt.show()    "
   ]
  },
  {
   "cell_type": "markdown",
   "id": "c7f5cfa2",
   "metadata": {},
   "source": [
    "# Final Report & Conclusion\n",
    "\n",
    "This project helped us understand how average COVID-19 deaths varied over time globally.  \n",
    "By analyzing trends, we observed key periods of spikes and declines which could relate to waves of the pandemic.\n",
    "\n",
    "**Tools Used:** Pandas, Matplotlib, Seaborn  \n",
    "**Skills Demonstrated:** Data storytelling, trend analysis, visualization, and interpretation.\n",
    "\n",
    "**Thank you for reviewing this analysis.**\n"
   ]
  }
 ],
 "metadata": {
  "kernelspec": {
   "display_name": "Python 3 (ipykernel)",
   "language": "python",
   "name": "python3"
  },
  "language_info": {
   "codemirror_mode": {
    "name": "ipython",
    "version": 3
   },
   "file_extension": ".py",
   "mimetype": "text/x-python",
   "name": "python",
   "nbconvert_exporter": "python",
   "pygments_lexer": "ipython3",
   "version": "3.9.12"
  }
 },
 "nbformat": 4,
 "nbformat_minor": 5
}
